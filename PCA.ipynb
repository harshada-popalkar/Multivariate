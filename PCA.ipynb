{
 "cells": [
  {
   "cell_type": "code",
   "execution_count": 1,
   "id": "19490808",
   "metadata": {},
   "outputs": [],
   "source": [
    "import numpy as np\n",
    "import pandas as pd\n",
    "import matplotlib.pyplot as plt\n",
    "from sklearn.preprocessing import StandardScaler\n",
    "from sklearn.decomposition import PCA\n",
    " \n",
    "plt.style.use('ggplot')"
   ]
  },
  {
   "cell_type": "code",
   "execution_count": 2,
   "id": "ee610e3f",
   "metadata": {},
   "outputs": [],
   "source": [
    "df=pd.read_excel('National_track_records.xlsx')"
   ]
  },
  {
   "cell_type": "code",
   "execution_count": 3,
   "id": "9952dc57",
   "metadata": {},
   "outputs": [
    {
     "data": {
      "text/html": [
       "<div>\n",
       "<style scoped>\n",
       "    .dataframe tbody tr th:only-of-type {\n",
       "        vertical-align: middle;\n",
       "    }\n",
       "\n",
       "    .dataframe tbody tr th {\n",
       "        vertical-align: top;\n",
       "    }\n",
       "\n",
       "    .dataframe thead th {\n",
       "        text-align: right;\n",
       "    }\n",
       "</style>\n",
       "<table border=\"1\" class=\"dataframe\">\n",
       "  <thead>\n",
       "    <tr style=\"text-align: right;\">\n",
       "      <th></th>\n",
       "      <th>100m</th>\n",
       "      <th>200m</th>\n",
       "      <th>400m</th>\n",
       "      <th>800m</th>\n",
       "      <th>1500m</th>\n",
       "      <th>5000m</th>\n",
       "      <th>10000m</th>\n",
       "      <th>Marathon</th>\n",
       "    </tr>\n",
       "  </thead>\n",
       "  <tbody>\n",
       "    <tr>\n",
       "      <th>0</th>\n",
       "      <td>10.23</td>\n",
       "      <td>20.37</td>\n",
       "      <td>46.18</td>\n",
       "      <td>1.77</td>\n",
       "      <td>3.68</td>\n",
       "      <td>13.33</td>\n",
       "      <td>129.57</td>\n",
       "      <td>27.65</td>\n",
       "    </tr>\n",
       "    <tr>\n",
       "      <th>1</th>\n",
       "      <td>9.93</td>\n",
       "      <td>20.06</td>\n",
       "      <td>44.38</td>\n",
       "      <td>1.74</td>\n",
       "      <td>3.53</td>\n",
       "      <td>12.93</td>\n",
       "      <td>127.51</td>\n",
       "      <td>27.53</td>\n",
       "    </tr>\n",
       "    <tr>\n",
       "      <th>2</th>\n",
       "      <td>10.15</td>\n",
       "      <td>20.45</td>\n",
       "      <td>45.80</td>\n",
       "      <td>1.77</td>\n",
       "      <td>3.58</td>\n",
       "      <td>13.26</td>\n",
       "      <td>132.22</td>\n",
       "      <td>27.72</td>\n",
       "    </tr>\n",
       "    <tr>\n",
       "      <th>3</th>\n",
       "      <td>10.14</td>\n",
       "      <td>20.19</td>\n",
       "      <td>45.02</td>\n",
       "      <td>1.73</td>\n",
       "      <td>3.57</td>\n",
       "      <td>12.83</td>\n",
       "      <td>127.20</td>\n",
       "      <td>26.87</td>\n",
       "    </tr>\n",
       "    <tr>\n",
       "      <th>4</th>\n",
       "      <td>10.27</td>\n",
       "      <td>20.30</td>\n",
       "      <td>45.26</td>\n",
       "      <td>1.79</td>\n",
       "      <td>3.70</td>\n",
       "      <td>14.64</td>\n",
       "      <td>146.37</td>\n",
       "      <td>30.49</td>\n",
       "    </tr>\n",
       "  </tbody>\n",
       "</table>\n",
       "</div>"
      ],
      "text/plain": [
       "    100m   200m   400m  800m  1500m  5000m  10000m  Marathon\n",
       "0  10.23  20.37  46.18  1.77   3.68  13.33  129.57     27.65\n",
       "1   9.93  20.06  44.38  1.74   3.53  12.93  127.51     27.53\n",
       "2  10.15  20.45  45.80  1.77   3.58  13.26  132.22     27.72\n",
       "3  10.14  20.19  45.02  1.73   3.57  12.83  127.20     26.87\n",
       "4  10.27  20.30  45.26  1.79   3.70  14.64  146.37     30.49"
      ]
     },
     "execution_count": 3,
     "metadata": {},
     "output_type": "execute_result"
    }
   ],
   "source": [
    "df.head(5)"
   ]
  },
  {
   "cell_type": "code",
   "execution_count": 8,
   "id": "243f85a7",
   "metadata": {},
   "outputs": [
    {
     "data": {
      "text/plain": [
       "(54, 8)"
      ]
     },
     "execution_count": 8,
     "metadata": {},
     "output_type": "execute_result"
    }
   ],
   "source": [
    "df.shape"
   ]
  },
  {
   "cell_type": "code",
   "execution_count": 14,
   "id": "0de9eb86",
   "metadata": {},
   "outputs": [],
   "source": [
    "df=pd.DataFrame(data=df,columns=df.columns)"
   ]
  },
  {
   "cell_type": "code",
   "execution_count": 15,
   "id": "795489eb",
   "metadata": {},
   "outputs": [],
   "source": [
    "scaler = StandardScaler()\n",
    "scaler.fit(df)\n",
    "df_scaled =scaler.transform(df)"
   ]
  },
  {
   "cell_type": "code",
   "execution_count": 16,
   "id": "0efe8c46",
   "metadata": {},
   "outputs": [
    {
     "data": {
      "text/plain": [
       "(54, 8)"
      ]
     },
     "execution_count": 16,
     "metadata": {},
     "output_type": "execute_result"
    }
   ],
   "source": [
    "df_scaled.shape"
   ]
  },
  {
   "cell_type": "code",
   "execution_count": 17,
   "id": "96cf02cf",
   "metadata": {},
   "outputs": [],
   "source": [
    "dataframe_scaled=pd.DataFrame(data=df_scaled,columns=df.columns)"
   ]
  },
  {
   "cell_type": "code",
   "execution_count": 19,
   "id": "587296be",
   "metadata": {},
   "outputs": [
    {
     "data": {
      "text/html": [
       "<div>\n",
       "<style scoped>\n",
       "    .dataframe tbody tr th:only-of-type {\n",
       "        vertical-align: middle;\n",
       "    }\n",
       "\n",
       "    .dataframe tbody tr th {\n",
       "        vertical-align: top;\n",
       "    }\n",
       "\n",
       "    .dataframe thead th {\n",
       "        text-align: right;\n",
       "    }\n",
       "</style>\n",
       "<table border=\"1\" class=\"dataframe\">\n",
       "  <thead>\n",
       "    <tr style=\"text-align: right;\">\n",
       "      <th></th>\n",
       "      <th>100m</th>\n",
       "      <th>200m</th>\n",
       "      <th>400m</th>\n",
       "      <th>800m</th>\n",
       "      <th>1500m</th>\n",
       "      <th>5000m</th>\n",
       "      <th>10000m</th>\n",
       "      <th>Marathon</th>\n",
       "    </tr>\n",
       "  </thead>\n",
       "  <tbody>\n",
       "    <tr>\n",
       "      <th>0</th>\n",
       "      <td>0.072321</td>\n",
       "      <td>-0.315546</td>\n",
       "      <td>0.234542</td>\n",
       "      <td>0.035637</td>\n",
       "      <td>0.195633</td>\n",
       "      <td>-0.381544</td>\n",
       "      <td>-0.440957</td>\n",
       "      <td>-0.532110</td>\n",
       "    </tr>\n",
       "    <tr>\n",
       "      <th>1</th>\n",
       "      <td>-1.259039</td>\n",
       "      <td>-0.885982</td>\n",
       "      <td>-1.022211</td>\n",
       "      <td>-0.541684</td>\n",
       "      <td>-0.770604</td>\n",
       "      <td>-0.912216</td>\n",
       "      <td>-0.673255</td>\n",
       "      <td>-0.604246</td>\n",
       "    </tr>\n",
       "    <tr>\n",
       "      <th>2</th>\n",
       "      <td>-0.282709</td>\n",
       "      <td>-0.168337</td>\n",
       "      <td>-0.030772</td>\n",
       "      <td>0.035637</td>\n",
       "      <td>-0.448525</td>\n",
       "      <td>-0.474411</td>\n",
       "      <td>-0.142127</td>\n",
       "      <td>-0.490031</td>\n",
       "    </tr>\n",
       "    <tr>\n",
       "      <th>3</th>\n",
       "      <td>-0.327087</td>\n",
       "      <td>-0.646767</td>\n",
       "      <td>-0.575365</td>\n",
       "      <td>-0.734124</td>\n",
       "      <td>-0.512941</td>\n",
       "      <td>-1.044884</td>\n",
       "      <td>-0.708213</td>\n",
       "      <td>-1.000991</td>\n",
       "    </tr>\n",
       "  </tbody>\n",
       "</table>\n",
       "</div>"
      ],
      "text/plain": [
       "       100m      200m      400m      800m     1500m     5000m    10000m  \\\n",
       "0  0.072321 -0.315546  0.234542  0.035637  0.195633 -0.381544 -0.440957   \n",
       "1 -1.259039 -0.885982 -1.022211 -0.541684 -0.770604 -0.912216 -0.673255   \n",
       "2 -0.282709 -0.168337 -0.030772  0.035637 -0.448525 -0.474411 -0.142127   \n",
       "3 -0.327087 -0.646767 -0.575365 -0.734124 -0.512941 -1.044884 -0.708213   \n",
       "\n",
       "   Marathon  \n",
       "0 -0.532110  \n",
       "1 -0.604246  \n",
       "2 -0.490031  \n",
       "3 -1.000991  "
      ]
     },
     "execution_count": 19,
     "metadata": {},
     "output_type": "execute_result"
    }
   ],
   "source": [
    "dataframe_scaled.head(4)"
   ]
  },
  {
   "cell_type": "code",
   "execution_count": 25,
   "id": "8744ab74",
   "metadata": {},
   "outputs": [],
   "source": [
    "pca=PCA(n_components=8)\n",
    "pca.fit_transform(df_scaled)"
   ]
  },
  {
   "cell_type": "code",
   "execution_count": 46,
   "id": "5eee5a6c",
   "metadata": {},
   "outputs": [],
   "source": [
    "prop_var = pca.explained_variance_ratio_\n",
    "eigenvalues = pca.explained_variance_"
   ]
  },
  {
   "cell_type": "code",
   "execution_count": 44,
   "id": "1b985a5c",
   "metadata": {},
   "outputs": [
    {
     "data": {
      "text/plain": [
       "array([0.83297067, 0.08011858, 0.02884009, 0.02788207, 0.01195941,\n",
       "       0.01072319, 0.00627144, 0.00123456])"
      ]
     },
     "execution_count": 44,
     "metadata": {},
     "output_type": "execute_result"
    }
   ],
   "source": [
    "prop_var"
   ]
  },
  {
   "cell_type": "code",
   "execution_count": 28,
   "id": "fd5569b4",
   "metadata": {},
   "outputs": [
    {
     "data": {
      "text/plain": [
       "array([6.7894968 , 0.65304198, 0.23507396, 0.22726515, 0.09748045,\n",
       "       0.08740412, 0.05111813, 0.0100628 ])"
      ]
     },
     "execution_count": 28,
     "metadata": {},
     "output_type": "execute_result"
    }
   ],
   "source": [
    "eigenvalues"
   ]
  },
  {
   "cell_type": "code",
   "execution_count": 49,
   "id": "e237f479",
   "metadata": {},
   "outputs": [],
   "source": [
    "p=np.transpose(np.matrix(prop_var))\n",
    "e=np.transpose(np.matrix(eigenvalues))"
   ]
  },
  {
   "cell_type": "code",
   "execution_count": 64,
   "id": "fb8f86c1",
   "metadata": {
    "scrolled": false
   },
   "outputs": [
    {
     "name": "stdout",
     "output_type": "stream",
     "text": [
      "[[8.32970673e-01 6.78949680e+00]\n",
      " [8.01185763e-02 6.53041981e-01]\n",
      " [2.88400927e-02 2.35073964e-01]\n",
      " [2.78820665e-02 2.27265146e-01]\n",
      " [1.19594070e-02 9.74804495e-02]\n",
      " [1.07231911e-02 8.74041239e-02]\n",
      " [6.27143695e-03 5.11181276e-02]\n",
      " [1.23455659e-03 1.00628009e-02]]\n"
     ]
    }
   ],
   "source": [
    "result = np.column_stack((p,e))\n",
    "print(result)\n",
    "pca_result=pd.DataFrame(data=result,columns=['prop_var','eigenvalues'])\n"
   ]
  },
  {
   "cell_type": "code",
   "execution_count": 66,
   "id": "cfb73aae",
   "metadata": {},
   "outputs": [
    {
     "data": {
      "text/html": [
       "<div>\n",
       "<style scoped>\n",
       "    .dataframe tbody tr th:only-of-type {\n",
       "        vertical-align: middle;\n",
       "    }\n",
       "\n",
       "    .dataframe tbody tr th {\n",
       "        vertical-align: top;\n",
       "    }\n",
       "\n",
       "    .dataframe thead th {\n",
       "        text-align: right;\n",
       "    }\n",
       "</style>\n",
       "<table border=\"1\" class=\"dataframe\">\n",
       "  <thead>\n",
       "    <tr style=\"text-align: right;\">\n",
       "      <th></th>\n",
       "      <th>prop_var</th>\n",
       "      <th>eigenvalues</th>\n",
       "    </tr>\n",
       "  </thead>\n",
       "  <tbody>\n",
       "    <tr>\n",
       "      <th>0</th>\n",
       "      <td>0.832971</td>\n",
       "      <td>6.789497</td>\n",
       "    </tr>\n",
       "    <tr>\n",
       "      <th>1</th>\n",
       "      <td>0.080119</td>\n",
       "      <td>0.653042</td>\n",
       "    </tr>\n",
       "    <tr>\n",
       "      <th>2</th>\n",
       "      <td>0.028840</td>\n",
       "      <td>0.235074</td>\n",
       "    </tr>\n",
       "    <tr>\n",
       "      <th>3</th>\n",
       "      <td>0.027882</td>\n",
       "      <td>0.227265</td>\n",
       "    </tr>\n",
       "    <tr>\n",
       "      <th>4</th>\n",
       "      <td>0.011959</td>\n",
       "      <td>0.097480</td>\n",
       "    </tr>\n",
       "    <tr>\n",
       "      <th>5</th>\n",
       "      <td>0.010723</td>\n",
       "      <td>0.087404</td>\n",
       "    </tr>\n",
       "    <tr>\n",
       "      <th>6</th>\n",
       "      <td>0.006271</td>\n",
       "      <td>0.051118</td>\n",
       "    </tr>\n",
       "    <tr>\n",
       "      <th>7</th>\n",
       "      <td>0.001235</td>\n",
       "      <td>0.010063</td>\n",
       "    </tr>\n",
       "  </tbody>\n",
       "</table>\n",
       "</div>"
      ],
      "text/plain": [
       "   prop_var  eigenvalues\n",
       "0  0.832971     6.789497\n",
       "1  0.080119     0.653042\n",
       "2  0.028840     0.235074\n",
       "3  0.027882     0.227265\n",
       "4  0.011959     0.097480\n",
       "5  0.010723     0.087404\n",
       "6  0.006271     0.051118\n",
       "7  0.001235     0.010063"
      ]
     },
     "execution_count": 66,
     "metadata": {},
     "output_type": "execute_result"
    }
   ],
   "source": [
    "pca_result"
   ]
  },
  {
   "cell_type": "code",
   "execution_count": 24,
   "id": "82a116c1",
   "metadata": {},
   "outputs": [
    {
     "data": {
      "image/png": "[encoded data removed]",
      "text/plain": [
       "<Figure size 640x480 with 1 Axes>"
      ]
     },
     "metadata": {},
     "output_type": "display_data"
    }
   ],
   "source": [
    "PC_numbers = np.arange(pca.n_components_) + 1\n",
    " \n",
    "plt.plot(PC_numbers, \n",
    "         prop_var, \n",
    "         'ro-')\n",
    "plt.title('Figure 1: Scree Plot', fontsize=8)\n",
    "plt.ylabel('Proportion of Variance', fontsize=8)\n",
    "plt.show()"
   ]
  },
  {
   "cell_type": "code",
   "execution_count": null,
   "id": "65b9d4e6",
   "metadata": {},
   "outputs": [],
   "source": []
  }
 ],
 "metadata": {
  "kernelspec": {
   "display_name": "Python 3 (ipykernel)",
   "language": "python",
   "name": "python3"
  },
  "language_info": {
   "codemirror_mode": {
    "name": "ipython",
    "version": 3
   },
   "file_extension": ".py",
   "mimetype": "text/x-python",
   "name": "python",
   "nbconvert_exporter": "python",
   "pygments_lexer": "ipython3",
   "version": "3.9.13"
  }
 },
 "nbformat": 4,
 "nbformat_minor": 5
}
